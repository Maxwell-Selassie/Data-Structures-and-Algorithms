{
 "cells": [
  {
   "cell_type": "markdown",
   "id": "2f1b01ab",
   "metadata": {
    "vscode": {
     "languageId": "plaintext"
    }
   },
   "source": [
    "1. **Arrays and Strings**\n",
    "Arrays - ordered collection where elements are stored in contiguous memory locations enabling a O(1) random access by index.\n",
    "\n",
    "**Uses cases of Arrays**\n",
    "- Storing datasets\n",
    "- Implementing stacks and queues\n",
    "- Sliding windows\n",
    "- Buffers\n",
    "\n",
    "Strings - immutable sequence of characters\n",
    "\n",
    "**Uses cases of Strings**\n",
    "- Text processing\n",
    "- Tokenization\n",
    "- Parsing\n",
    "- Building keys for hash maps"
   ]
  },
  {
   "cell_type": "code",
   "execution_count": 6,
   "id": "2dc17869",
   "metadata": {},
   "outputs": [
    {
     "name": "stdout",
     "output_type": "stream",
     "text": [
      "All Tests Passed\n"
     ]
    }
   ],
   "source": [
    "# 1. Two sum problem\n",
    "from typing import List,Tuple\n",
    "def two_sum(nums: List[int], target: int) -> Tuple[int,int]:\n",
    "    '''\n",
    "        Returns a pair of indexes such that nums[i] + num[j] = target\n",
    "        raises a ValueError if no solution is found\n",
    "        Receives a list of integers as input and returns a tuple of integers\n",
    "        Time complexity : O(n) Space complexity : O(n)\n",
    "    '''\n",
    "    seen : dict[int,int] = {}\n",
    "    for i,num in enumerate(nums):\n",
    "        complement = target - num\n",
    "        if complement in seen:\n",
    "            return (seen[complement], i)\n",
    "        seen[num] = i\n",
    "    raise ValueError('No two-sum solution found!')\n",
    "if __name__ == '__main__':\n",
    "    assert two_sum([2,3,4,5,6],5) == (0,1)\n",
    "    assert two_sum([3,5,7,9],12) == (1,2)\n",
    "    print('All Tests Passed')"
   ]
  },
  {
   "cell_type": "code",
   "execution_count": null,
   "id": "48659be4",
   "metadata": {},
   "outputs": [
    {
     "name": "stdout",
     "output_type": "stream",
     "text": [
      "All tests passed\n"
     ]
    }
   ],
   "source": [
    "# 2. Reverse Words in a String\n",
    "def reverse_words(sentence: str) -> str:\n",
    "    '''\n",
    "        Returns the reverse of a sentence\n",
    "        Example : Hello World == World Hello\n",
    "        Time : O(n) Space : O(n)\n",
    "    '''\n",
    "    return ' '.join(sentence.split()[::-1])\n",
    "if __name__ == '__main__':\n",
    "    assert reverse_words('Hello World') == 'World Hello'\n",
    "    assert reverse_words('Valerie Stone') == 'Stone Valerie'\n",
    "    assert reverse_words('Jamie Husk') == 'Husk Jamie'\n",
    "    print('All tests passed')"
   ]
  },
  {
   "cell_type": "code",
   "execution_count": null,
   "id": "65c6a8db",
   "metadata": {},
   "outputs": [
    {
     "name": "stdout",
     "output_type": "stream",
     "text": [
      "9\n"
     ]
    }
   ],
   "source": [
    "# 3. Maximum Subarrary - Kadane's algorithm\n",
    "from typing import List\n",
    "def maximum_subarrary(nums: List[int]) -> int:\n",
    "    '''\n",
    "    Args:\n",
    "        nums: List of integers (can include negatives).\n",
    "    Returns:\n",
    "        Maximum sum of any contiguous subarray\n",
    "    Time: O(n)\n",
    "    Space: O(1)\n",
    "    '''\n",
    "    current_sum = nums[0]\n",
    "    max_sum = nums[0]\n",
    "    for num in nums[1:]:\n",
    "        current_sum = max(num, current_sum + num)\n",
    "        max_sum = max(max_sum,current_sum)\n",
    "    return max_sum\n",
    "print(maximum_subarrary([-3,4,-5,6,3,-1]))"
   ]
  },
  {
   "cell_type": "code",
   "execution_count": 4,
   "id": "e737d960",
   "metadata": {},
   "outputs": [
    {
     "name": "stdout",
     "output_type": "stream",
     "text": [
      "Number of items ...  7\n",
      "Number of items (using len function) ...  7\n"
     ]
    }
   ],
   "source": [
    "# frequency count\n",
    "nums = [1,3,5,6,3,7,4] # ________n\n",
    "count = 0 # _______1\n",
    "for i in nums: # _________n + 1\n",
    "    count += 1 # ___________n\n",
    "\n",
    "    # time complexity = n + 1 + (n+1) + n => f(x) = 3n + 2 \n",
    "    # therefore: Time complexity = O(n), since the degree of n is 1\n",
    "\n",
    "\n",
    "    # space complexity = nums(n) + count(1) + i(1) => f(x) = n + 2\n",
    "    # Therefore: Space Complexity = O(n) \n",
    "print('Number of items ... ',count)\n",
    "\n",
    "# alternative solution\n",
    "print('Number of items (using len function) ... ',len(nums))"
   ]
  },
  {
   "cell_type": "code",
   "execution_count": 10,
   "id": "3dee1fa4",
   "metadata": {},
   "outputs": [
    {
     "name": "stdout",
     "output_type": "stream",
     "text": [
      "Class Assessment\n",
      " {'Jamie': 73, 'Jackson': 43, 'John': 54, 'James': 89, 'Jennie': 84, 'Jacqueline': 32}\n",
      "Class Assessment (without zip)\n",
      " {'Jamie': 73, 'Jackson': 43, 'John': 54, 'James': 89, 'Jennie': 84, 'Jacqueline': 32}\n"
     ]
    }
   ],
   "source": [
    "# looping through 2 lists\n",
    "students = ['Jamie','Jackson','John','James','Jennie','Jacqueline'] #________n\n",
    "grades = [73,43,54,89,84,32] #__________n\n",
    "\n",
    "class_assessment = {} #_____1\n",
    "for student,grade in zip(students,grades): #_____n\n",
    "    class_assessment[student] = grade #______n\n",
    "print('Class Assessment\\n',class_assessment) #_______1\n",
    "#space complexity = O(n)\n",
    "#time complexity = O(n)\n",
    "\n",
    "# alternative code\n",
    "class_assess = {}\n",
    "for i in range(len(students)):\n",
    "    student = students[i]\n",
    "    grade = grades[i]\n",
    "    class_assess[student] = grade\n",
    "print('Class Assessment (without zip)\\n',class_assess)"
   ]
  },
  {
   "cell_type": "markdown",
   "id": "1b4eb9bb",
   "metadata": {},
   "source": [
    "**Linked List**\n",
    "A linked list is a linear data structure made up of nodes, with each node containing a value and a reference(pointer) to the next node\n",
    "\n",
    "Real-World Use Cases\n",
    "- Undo/Redo\n",
    "- Music Playlist navigation\n",
    "- Dynamic memory allocation\n",
    "- Hash table chaining\n",
    "\n",
    "**Stacks**\n",
    "Last-In First-Out data structure \n",
    "\n",
    "**Use Cases**\n",
    "\n",
    "- Undo/Redo\n",
    "- Backtracking - Depth First Search \n",
    "- Function call stack in programs\n",
    "\n",
    "**Operations**\n",
    "Push(x) - adds to top\n",
    "Pop() - remove top\n",
    "Peek() - look at top without removing\n",
    "\n",
    "**Queues**\n",
    "First-In First-Out data structure\n",
    "\n",
    "**Use Cases**\n",
    "- Breadth First Search in graphs\n",
    "- Task scheduling\n",
    "- Message processing pipelines\n",
    "\n",
    "**Operations**\n",
    "enqueue(x) - add to back\n",
    "dequeue() - remove from front"
   ]
  }
 ],
 "metadata": {
  "kernelspec": {
   "display_name": "Python 3",
   "language": "python",
   "name": "python3"
  },
  "language_info": {
   "codemirror_mode": {
    "name": "ipython",
    "version": 3
   },
   "file_extension": ".py",
   "mimetype": "text/x-python",
   "name": "python",
   "nbconvert_exporter": "python",
   "pygments_lexer": "ipython3",
   "version": "3.11.9"
  }
 },
 "nbformat": 4,
 "nbformat_minor": 5
}
